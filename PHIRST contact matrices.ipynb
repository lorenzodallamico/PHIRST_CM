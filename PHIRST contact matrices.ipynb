{
 "cells": [
  {
   "cell_type": "code",
   "execution_count": 2,
   "id": "7d9f1884",
   "metadata": {},
   "outputs": [],
   "source": [
    "# Import packages\n",
    "\n",
    "import pickle\n",
    "import sys\n",
    "import numpy as np\n",
    "import matplotlib.pyplot as plt\n",
    "import pandas as pd\n",
    "\n",
    "# Set the directory folder in which the CM.pkl file is contained\n",
    "directory_root = 'your_directory'\n",
    "sys.path += [directory_root + 'Package']  \n",
    "\n",
    "from contact_matrices import *"
   ]
  },
  {
   "cell_type": "markdown",
   "id": "79b54557",
   "metadata": {},
   "source": [
    "# Instructions\n",
    "\n",
    "In the file `CM.pkl` we stored the contact matrices aggregated by household and deployment. With the following command, we upload the file. "
   ]
  },
  {
   "cell_type": "code",
   "execution_count": 2,
   "id": "534e52cb",
   "metadata": {},
   "outputs": [],
   "source": [
    "# Load the contact matrices\n",
    "with open(directory_root + 'CM.pkl', 'rb') as inp:\n",
    "    CM = pickle.load(inp)\n"
   ]
  },
  {
   "cell_type": "markdown",
   "id": "5c9a0448",
   "metadata": {},
   "source": [
    "`CM` is a dictionary. To access its entries we simply type `CM[h,d]` where `h` refers to the household and `d` to the deplyoment. Households identifiers have been de-anonymized and randomized and are numbers between $0$ and $59$. Deployments instead are numbers between $0$ and $2$ and correspond to the three measurement waves.\n",
    "\n",
    "`CM[h,d]` is a *class* storing several contact matrices that can be accessed as follows:\n",
    "\n",
    "```python\n",
    "CM[h,d].C_counts\n",
    "CM[h,d].C_sec\n",
    "CM[h,d].R_counts\n",
    "CM[h,d].R_sec\n",
    "CM[h,d].T\n",
    "CM[h,d].P\n",
    "```\n",
    "\n",
    "The name of these matrices is consistent with the notation adopted in the paper. A further matrix that does not appear in the main paper is `CM[h,d].K` that is simply the ratio `C_sec/C_counts`.\n",
    "\n",
    "\n",
    "We now provide an example, plotting the matrix $C_{\\rm counts}$ of household $7$ in the third deployment (note that we start counting from zero)."
   ]
  },
  {
   "cell_type": "code",
   "execution_count": 3,
   "id": "5838092f",
   "metadata": {},
   "outputs": [
    {
     "data": {
      "image/png": "[encoded data removed]",
      "text/plain": [
       "<Figure size 432x288 with 1 Axes>"
      ]
     },
     "metadata": {
      "needs_background": "light"
     },
     "output_type": "display_data"
    }
   ],
   "source": [
    "h = 7\n",
    "d = 2\n",
    "\n",
    "plt.imshow(CM[h,d].C_counts, cmap = 'Blues', origin = 'lower')\n",
    "plt.show();"
   ]
  },
  {
   "cell_type": "markdown",
   "id": "6b6f07d4",
   "metadata": {},
   "source": [
    "If we want to aggregate all measurements referring to a given deployment, we simply need to do as follows."
   ]
  },
  {
   "cell_type": "code",
   "execution_count": 4,
   "id": "92d7fdea",
   "metadata": {},
   "outputs": [
    {
     "data": {
      "image/png": "[encoded data removed]",
      "text/plain": [
       "<Figure size 432x288 with 1 Axes>"
      ]
     },
     "metadata": {
      "needs_background": "light"
     },
     "output_type": "display_data"
    }
   ],
   "source": [
    "d = 2\n",
    "\n",
    "C = np.mean([CM[h,d].C_counts for h in range(60)], axis = 0)\n",
    "T = np.mean([CM[h,d].T for h in range(60)], axis = 0)\n",
    "\n",
    "R = C/T\n",
    "R = R/np.mean(R)\n",
    "plt.imshow(np.log10(R), cmap = 'PiYG', vmin = -1., vmax = 1., origin = 'lower')\n",
    "plt.show();"
   ]
  },
  {
   "cell_type": "markdown",
   "id": "230d52bf",
   "metadata": {},
   "source": [
    "Finally, if we want to export the matrix in `.csv` format, we simply run the following command\n",
    "\n",
    "```python\n",
    "pd.DataFrame(R).to_csv('CM.csv')\n",
    "```"
   ]
  },
  {
   "cell_type": "code",
   "execution_count": null,
   "id": "2d5592fa",
   "metadata": {},
   "outputs": [],
   "source": []
  }
 ],
 "metadata": {
  "kernelspec": {
   "display_name": "Python 3 (ipykernel)",
   "language": "python",
   "name": "python3"
  },
  "language_info": {
   "codemirror_mode": {
    "name": "ipython",
    "version": 3
   },
   "file_extension": ".py",
   "mimetype": "text/x-python",
   "name": "python",
   "nbconvert_exporter": "python",
   "pygments_lexer": "ipython3",
   "version": "3.9.7"
  }
 },
 "nbformat": 4,
 "nbformat_minor": 5
}
